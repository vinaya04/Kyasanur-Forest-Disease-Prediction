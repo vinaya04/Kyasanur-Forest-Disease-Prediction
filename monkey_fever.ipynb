{
 "cells": [
  {
   "cell_type": "code",
   "execution_count": 51,
   "id": "7d1bb66d-b2fa-4c99-a6f3-6c39a64adaff",
   "metadata": {},
   "outputs": [
    {
     "name": "stdout",
     "output_type": "stream",
     "text": [
      "Requirement already satisfied: pandas in c:\\users\\vinaya\\appdata\\local\\programs\\python\\python313\\lib\\site-packages (2.2.3)\n",
      "Requirement already satisfied: numpy>=1.26.0 in c:\\users\\vinaya\\appdata\\local\\programs\\python\\python313\\lib\\site-packages (from pandas) (2.2.5)\n",
      "Requirement already satisfied: python-dateutil>=2.8.2 in c:\\users\\vinaya\\appdata\\roaming\\python\\python313\\site-packages (from pandas) (2.9.0.post0)\n",
      "Requirement already satisfied: pytz>=2020.1 in c:\\users\\vinaya\\appdata\\local\\programs\\python\\python313\\lib\\site-packages (from pandas) (2025.2)\n",
      "Requirement already satisfied: tzdata>=2022.7 in c:\\users\\vinaya\\appdata\\local\\programs\\python\\python313\\lib\\site-packages (from pandas) (2025.2)\n",
      "Requirement already satisfied: six>=1.5 in c:\\users\\vinaya\\appdata\\roaming\\python\\python313\\site-packages (from python-dateutil>=2.8.2->pandas) (1.17.0)\n",
      "Requirement already satisfied: numpy in c:\\users\\vinaya\\appdata\\local\\programs\\python\\python313\\lib\\site-packages (2.2.5)\n",
      "Requirement already satisfied: joblib in c:\\users\\vinaya\\appdata\\local\\programs\\python\\python313\\lib\\site-packages (1.5.0)\n",
      "Requirement already satisfied: matplotlib in c:\\users\\vinaya\\appdata\\local\\programs\\python\\python313\\lib\\site-packages (3.10.1)\n",
      "Requirement already satisfied: contourpy>=1.0.1 in c:\\users\\vinaya\\appdata\\local\\programs\\python\\python313\\lib\\site-packages (from matplotlib) (1.3.2)\n",
      "Requirement already satisfied: cycler>=0.10 in c:\\users\\vinaya\\appdata\\local\\programs\\python\\python313\\lib\\site-packages (from matplotlib) (0.12.1)\n",
      "Requirement already satisfied: fonttools>=4.22.0 in c:\\users\\vinaya\\appdata\\local\\programs\\python\\python313\\lib\\site-packages (from matplotlib) (4.57.0)\n",
      "Requirement already satisfied: kiwisolver>=1.3.1 in c:\\users\\vinaya\\appdata\\local\\programs\\python\\python313\\lib\\site-packages (from matplotlib) (1.4.8)\n",
      "Requirement already satisfied: numpy>=1.23 in c:\\users\\vinaya\\appdata\\local\\programs\\python\\python313\\lib\\site-packages (from matplotlib) (2.2.5)\n",
      "Requirement already satisfied: packaging>=20.0 in c:\\users\\vinaya\\appdata\\roaming\\python\\python313\\site-packages (from matplotlib) (25.0)\n",
      "Requirement already satisfied: pillow>=8 in c:\\users\\vinaya\\appdata\\local\\programs\\python\\python313\\lib\\site-packages (from matplotlib) (11.2.1)\n",
      "Requirement already satisfied: pyparsing>=2.3.1 in c:\\users\\vinaya\\appdata\\local\\programs\\python\\python313\\lib\\site-packages (from matplotlib) (3.2.3)\n",
      "Requirement already satisfied: python-dateutil>=2.7 in c:\\users\\vinaya\\appdata\\roaming\\python\\python313\\site-packages (from matplotlib) (2.9.0.post0)\n",
      "Requirement already satisfied: six>=1.5 in c:\\users\\vinaya\\appdata\\roaming\\python\\python313\\site-packages (from python-dateutil>=2.7->matplotlib) (1.17.0)\n",
      "Requirement already satisfied: scikit-learn in c:\\users\\vinaya\\appdata\\local\\programs\\python\\python313\\lib\\site-packages (1.6.1)\n",
      "Requirement already satisfied: numpy>=1.19.5 in c:\\users\\vinaya\\appdata\\local\\programs\\python\\python313\\lib\\site-packages (from scikit-learn) (2.2.5)\n",
      "Requirement already satisfied: scipy>=1.6.0 in c:\\users\\vinaya\\appdata\\local\\programs\\python\\python313\\lib\\site-packages (from scikit-learn) (1.15.2)\n",
      "Requirement already satisfied: joblib>=1.2.0 in c:\\users\\vinaya\\appdata\\local\\programs\\python\\python313\\lib\\site-packages (from scikit-learn) (1.5.0)\n",
      "Requirement already satisfied: threadpoolctl>=3.1.0 in c:\\users\\vinaya\\appdata\\local\\programs\\python\\python313\\lib\\site-packages (from scikit-learn) (3.6.0)\n"
     ]
    }
   ],
   "source": [
    "!pip install pandas\n",
    "!pip install numpy\n",
    "!pip install joblib\n",
    "!pip install matplotlib\n",
    "!pip install scikit-learn\n"
   ]
  },
  {
   "cell_type": "code",
   "execution_count": 52,
   "id": "6aa8536e-adc6-4b5d-881d-b5237ff3b710",
   "metadata": {},
   "outputs": [],
   "source": [
    "import numpy as np\n",
    "import pandas as pd\n",
    "import joblib\n",
    "import json\n",
    "import matplotlib.pyplot as plt\n",
    "from sklearn.model_selection import train_test_split\n",
    "from sklearn.feature_selection import SelectKBest, f_classif\n",
    "from sklearn.preprocessing import StandardScaler\n",
    "from sklearn.metrics import accuracy_score, classification_report\n",
    "from sklearn.linear_model import LogisticRegression\n",
    "from sklearn.svm import SVC\n",
    "from sklearn.tree import DecisionTreeClassifier\n",
    "from sklearn.ensemble import RandomForestClassifier\n",
    "import warnings\n",
    "from sklearn.metrics import confusion_matrix, ConfusionMatrixDisplay, accuracy_score"
   ]
  },
  {
   "cell_type": "code",
   "execution_count": 53,
   "id": "1ceb06bb-62a0-413d-9d8c-3f59006c1470",
   "metadata": {},
   "outputs": [],
   "source": [
    "warnings.filterwarnings('ignore')"
   ]
  },
  {
   "cell_type": "code",
   "execution_count": 54,
   "id": "7252cb1a-5793-4f18-9c07-90ed38fb3dad",
   "metadata": {},
   "outputs": [],
   "source": [
    "# === Step 1: Load and preprocess dataset ===\n",
    "df = pd.read_csv(\"KFD_399.csv\")"
   ]
  },
  {
   "cell_type": "code",
   "execution_count": 55,
   "id": "b50cd50c-cc39-4c1d-87c8-cf4c6915934b",
   "metadata": {},
   "outputs": [
    {
     "name": "stdout",
     "output_type": "stream",
     "text": [
      "<class 'pandas.core.frame.DataFrame'>\n",
      "RangeIndex: 399 entries, 0 to 398\n",
      "Data columns (total 25 columns):\n",
      " #   Column               Non-Null Count  Dtype \n",
      "---  ------               --------------  ----- \n",
      " 0   Season               399 non-null    object\n",
      " 1   GPS_loc              399 non-null    object\n",
      " 2   Occupation           399 non-null    object\n",
      " 3   sudden chills        399 non-null    object\n",
      " 4   headache             399 non-null    object\n",
      " 5   severe myalgia       399 non-null    object\n",
      " 6   fever                399 non-null    object\n",
      " 7   joint pain           399 non-null    object\n",
      " 8   neck pain            399 non-null    object\n",
      " 9   cough                399 non-null    object\n",
      " 10  diarhoea             399 non-null    object\n",
      " 11  vomiting             399 non-null    object\n",
      " 12  photophobia          399 non-null    object\n",
      " 13  bloody nose          399 non-null    object\n",
      " 14  bloody gum           399 non-null    object\n",
      " 15  blood in stool       399 non-null    object\n",
      " 16  Blood in cough       399 non-null    object\n",
      " 17  blood in vomit       399 non-null    object\n",
      " 18  red eye              399 non-null    object\n",
      " 19  neck stiffness       399 non-null    object\n",
      " 20  mental disturbances  399 non-null    object\n",
      " 21  giddiness            399 non-null    object\n",
      " 22  unconsciousness      399 non-null    object\n",
      " 23  low bp               399 non-null    object\n",
      " 24  KFD                  399 non-null    object\n",
      "dtypes: object(25)\n",
      "memory usage: 78.1+ KB\n"
     ]
    }
   ],
   "source": [
    "df_info = df.info()\n",
    "df_head = df.head()"
   ]
  },
  {
   "cell_type": "code",
   "execution_count": 56,
   "id": "661b945d-5e6d-4072-9387-540a617ab6a8",
   "metadata": {},
   "outputs": [
    {
     "data": {
      "text/plain": [
       "(None,\n",
       "   Season GPS_loc Occupation sudden chills headache severe myalgia fever  \\\n",
       " 0      P       P          P             Y        Y              Y     Y   \n",
       " 1      P       P          N             Y        N              N     N   \n",
       " 2      P       P          N             N        Y              N     N   \n",
       " 3      P       P          N             N        N              Y     N   \n",
       " 4      P       P          N             N        N              N     Y   \n",
       " \n",
       "   joint pain neck pain cough  ... blood in stool Blood in cough  \\\n",
       " 0          Y         Y     Y  ...              Y              Y   \n",
       " 1          N         N     N  ...              N              N   \n",
       " 2          N         N     N  ...              N              N   \n",
       " 3          N         N     N  ...              N              N   \n",
       " 4          N         N     N  ...              N              N   \n",
       " \n",
       "   blood in vomit red eye neck stiffness mental disturbances giddiness  \\\n",
       " 0              Y       Y              Y                   Y         Y   \n",
       " 1              N       N              N                   N         N   \n",
       " 2              N       N              N                   N         N   \n",
       " 3              N       N              N                   N         N   \n",
       " 4              N       N              N                   N         N   \n",
       " \n",
       "   unconsciousness low bp KFD  \n",
       " 0               Y      Y   C  \n",
       " 1               N      N   S  \n",
       " 2               N      N   S  \n",
       " 3               N      N   S  \n",
       " 4               N      N   S  \n",
       " \n",
       " [5 rows x 25 columns])"
      ]
     },
     "execution_count": 56,
     "metadata": {},
     "output_type": "execute_result"
    }
   ],
   "source": [
    "df_info, df_head"
   ]
  },
  {
   "cell_type": "code",
   "execution_count": 57,
   "id": "fd286b6c-ea91-46b0-94eb-1b5862329159",
   "metadata": {},
   "outputs": [],
   "source": [
    "# Convert Y/N to 1/0\n",
    "yn_columns = df.columns[3:-1]\n",
    "for col in yn_columns:\n",
    "    df[col] = df[col].map({'Y': 1, 'N': 0})\n"
   ]
  },
  {
   "cell_type": "code",
   "execution_count": 58,
   "id": "adceee12-c166-4a15-b368-4a56330e4101",
   "metadata": {},
   "outputs": [],
   "source": [
    "# One-hot encode categorical features\n",
    "df = pd.get_dummies(df, columns=['Season', 'GPS_loc', 'Occupation'], drop_first=True)\n"
   ]
  },
  {
   "cell_type": "code",
   "execution_count": 59,
   "id": "2281e808-81cb-4101-a41a-db0d38556ecc",
   "metadata": {},
   "outputs": [],
   "source": [
    "# Convert multi-class labels\n",
    "df['KFD'] = df['KFD'].map({'C': 0, 'S': 1, 'N': 2, 'PR': 3})\n",
    "df.dropna(subset=['KFD'], inplace=True)"
   ]
  },
  {
   "cell_type": "code",
   "execution_count": 60,
   "id": "79efc8e7-8f1e-44fd-8101-74e7f9117aea",
   "metadata": {},
   "outputs": [],
   "source": [
    "# === Step 2: Feature Selection ===\n",
    "X = df.drop('KFD', axis=1)\n",
    "y = df['KFD']"
   ]
  },
  {
   "cell_type": "code",
   "execution_count": 61,
   "id": "b5e22407-369d-4ac6-8c07-ae6082ab2fa7",
   "metadata": {},
   "outputs": [
    {
     "name": "stdout",
     "output_type": "stream",
     "text": [
      "Selected Features: ['sudden chills', 'headache', 'severe myalgia', 'fever', 'neck stiffness', 'unconsciousness', 'low bp', 'Season_P', 'GPS_loc_P', 'Occupation_P']\n"
     ]
    }
   ],
   "source": [
    "def feature_selection(X, y, k=10):\n",
    "    selector = SelectKBest(score_func=f_classif, k=k)\n",
    "    X_new = selector.fit_transform(X, y)\n",
    "    selected_features = X.columns[selector.get_support()]\n",
    "    return X[selected_features], selected_features\n",
    "\n",
    "X_selected, selected_features = feature_selection(X, y, k=10)\n",
    "print(\"Selected Features:\", list(selected_features))"
   ]
  },
  {
   "cell_type": "code",
   "execution_count": 62,
   "id": "a6e238de",
   "metadata": {},
   "outputs": [],
   "source": [
    "# === Step 3: Scaling and Splitting ===\n",
    "scaler = StandardScaler()\n",
    "X_scaled = scaler.fit_transform(X_selected)\n",
    "X_train, X_test, y_train, y_test = train_test_split(X_scaled, y, test_size=0.2, random_state=42)"
   ]
  },
  {
   "cell_type": "code",
   "execution_count": 63,
   "id": "8ad8528e",
   "metadata": {},
   "outputs": [],
   "source": [
    "# === Step 4: Train Multiple Models ===\n",
    "models = {\n",
    "    \"Logistic Regression\": LogisticRegression(max_iter=1000),\n",
    "    \"SVM\": SVC(),\n",
    "    \"Decision Tree\": DecisionTreeClassifier(),\n",
    "    \"Random Forest\": RandomForestClassifier(random_state=42)\n",
    "}"
   ]
  },
  {
   "cell_type": "code",
   "execution_count": 64,
   "id": "cb68e1ad",
   "metadata": {},
   "outputs": [],
   "source": [
    "results = {}\n",
    "best_model = None\n",
    "best_accuracy = 0\n",
    "best_model_name = \"\""
   ]
  },
  {
   "cell_type": "code",
   "execution_count": 65,
   "id": "9d844bbf",
   "metadata": {},
   "outputs": [
    {
     "name": "stdout",
     "output_type": "stream",
     "text": [
      "\n",
      "Logistic Regression Accuracy: 0.8000\n"
     ]
    },
    {
     "data": {
      "image/png": "[encoded data removed]",
      "text/plain": [
       "<Figure size 640x480 with 2 Axes>"
      ]
     },
     "metadata": {},
     "output_type": "display_data"
    },
    {
     "name": "stdout",
     "output_type": "stream",
     "text": [
      "\n",
      "SVM Accuracy: 0.8250\n"
     ]
    },
    {
     "data": {
      "image/png": "[encoded data removed]",
      "text/plain": [
       "<Figure size 640x480 with 2 Axes>"
      ]
     },
     "metadata": {},
     "output_type": "display_data"
    },
    {
     "name": "stdout",
     "output_type": "stream",
     "text": [
      "\n",
      "Decision Tree Accuracy: 0.8250\n"
     ]
    },
    {
     "data": {
      "image/png": "[encoded data removed]",
      "text/plain": [
       "<Figure size 640x480 with 2 Axes>"
      ]
     },
     "metadata": {},
     "output_type": "display_data"
    },
    {
     "name": "stdout",
     "output_type": "stream",
     "text": [
      "\n",
      "Random Forest Accuracy: 0.7875\n"
     ]
    },
    {
     "data": {
      "image/png": "[encoded data removed]",
      "text/plain": [
       "<Figure size 640x480 with 2 Axes>"
      ]
     },
     "metadata": {},
     "output_type": "display_data"
    }
   ],
   "source": [
    "for name, clf in models.items():\n",
    "    clf.fit(X_train, y_train)\n",
    "    y_pred = clf.predict(X_test)\n",
    "    acc = accuracy_score(y_test, y_pred)\n",
    "    results[name] = acc\n",
    "    print(f\"\\n{name} Accuracy: {acc:.4f}\")\n",
    "\n",
    "     # Confusion Matrix\n",
    "    cm = confusion_matrix(y_test, y_pred, labels=clf.classes_)\n",
    "    disp = ConfusionMatrixDisplay(confusion_matrix=cm, display_labels=clf.classes_)\n",
    "    disp.plot(cmap=plt.cm.Greens)\n",
    "    plt.title(f\"{name} Confusion Matrix\")\n",
    "    plt.show()\n",
    "\n",
    "    \n",
    "    if acc > best_accuracy:\n",
    "        best_accuracy = acc\n",
    "        best_model = clf\n",
    "        best_model_name = name\n",
    "        best_y_pred = y_pred\n",
    "\n"
   ]
  },
  {
   "cell_type": "code",
   "execution_count": 66,
   "id": "110634ca",
   "metadata": {},
   "outputs": [
    {
     "name": "stdout",
     "output_type": "stream",
     "text": [
      "\n",
      "✅ Best Model: SVM (Accuracy: 0.8250)\n",
      "\n",
      "Classification Report:\n",
      "               precision    recall  f1-score   support\n",
      "\n",
      "           0       0.78      0.93      0.85        15\n",
      "           1       0.90      0.47      0.62        19\n",
      "           2       1.00      0.94      0.97        16\n",
      "           3       0.76      0.93      0.84        30\n",
      "\n",
      "    accuracy                           0.82        80\n",
      "   macro avg       0.86      0.82      0.82        80\n",
      "weighted avg       0.84      0.82      0.81        80\n",
      "\n"
     ]
    }
   ],
   "source": [
    "# === Step 5: Use Best Model ===\n",
    "print(f\"\\n✅ Best Model: {best_model_name} (Accuracy: {best_accuracy:.4f})\")\n",
    "print(\"\\nClassification Report:\\n\", classification_report(y_test, best_y_pred))"
   ]
  },
  {
   "cell_type": "code",
   "execution_count": 67,
   "id": "55a4c600",
   "metadata": {},
   "outputs": [
    {
     "data": {
      "text/plain": [
       "['selected_features.pkl']"
      ]
     },
     "execution_count": 67,
     "metadata": {},
     "output_type": "execute_result"
    }
   ],
   "source": [
    "# Save the best model, scaler, and selected features\n",
    "joblib.dump(best_model, \"best_kfd_model.pkl\")\n",
    "joblib.dump(scaler, \"scaler.pkl\")\n",
    "joblib.dump(selected_features.tolist(), \"selected_features.pkl\")"
   ]
  },
  {
   "cell_type": "code",
   "execution_count": 68,
   "id": "217cbe83",
   "metadata": {},
   "outputs": [
    {
     "name": "stdout",
     "output_type": "stream",
     "text": [
      "📊 Saved metrics.json\n"
     ]
    }
   ],
   "source": [
    "#Now save your metrics.json\n",
    "metrics = {\n",
    "    \"best_model\": best_model_name,\n",
    "    \"accuracy\":  best_accuracy,\n",
    "    \"classification_report\": classification_report(y_test, best_y_pred, output_dict=True)\n",
    "}\n",
    "\n",
    "with open(\"metrics.json\", \"w\") as f:\n",
    "    json.dump(metrics, f, indent=2)\n",
    "\n",
    "print(\"📊 Saved metrics.json\")"
   ]
  },
  {
   "cell_type": "code",
   "execution_count": 69,
   "id": "e4bfb4a5",
   "metadata": {},
   "outputs": [],
   "source": [
    "# === Step 6: Prediction Function ===\n",
    "def predict_disease(input_features):\n",
    "    input_scaled = scaler.transform(np.array(input_features).reshape(1, -1))\n",
    "    prediction = best_model.predict(input_scaled)\n",
    "    return prediction[0]"
   ]
  },
  {
   "cell_type": "code",
   "execution_count": 70,
   "id": "ea59e224",
   "metadata": {},
   "outputs": [],
   "source": [
    "# === Step 7: Example Prediction ===\n",
    "feature_mapping = {\n",
    "    0: \"sudden chills\",\n",
    "    1: \"headache\",\n",
    "    2: \"severe myalgia\",\n",
    "    3: \"fever\",\n",
    "    4: \"neck stiffness\",\n",
    "    5: \"unconsciousness\",\n",
    "    6: \"low bp\",\n",
    "    7: \"Season_P\",\n",
    "    8: \"GPS_loc_P\",\n",
    "    9: \"Occupation_P\"\n",
    "}"
   ]
  },
  {
   "cell_type": "code",
   "execution_count": 71,
   "id": "57dee2fe",
   "metadata": {},
   "outputs": [],
   "source": [
    "class_mapping = {0: 'Confirmed (C)', 1: 'Suspected (S)', 2: 'Negative (N)', 3: 'Probable (PR)'}"
   ]
  },
  {
   "cell_type": "code",
   "execution_count": 72,
   "id": "41a39d99",
   "metadata": {},
   "outputs": [
    {
     "name": "stdout",
     "output_type": "stream",
     "text": [
      "\n",
      "Predicted Class: Confirmed (C)\n",
      "sudden chills: Present\n",
      "headache: Present\n",
      "severe myalgia: Present\n",
      "fever: Present\n",
      "neck stiffness: Present\n",
      "unconsciousness: Present\n",
      "low bp: Present\n",
      "Season_P: Present\n",
      "GPS_loc_P: Present\n",
      "Occupation_P: Absent\n"
     ]
    }
   ],
   "source": [
    "new_patient_data = [1, 1, 1, 1, 1, 1, 1, 1, 1, 0]\n",
    "predicted_class = predict_disease(new_patient_data)\n",
    "print(f\"\\nPredicted Class: {class_mapping[predicted_class]}\")\n",
    "\n",
    "for i, val in enumerate(new_patient_data):\n",
    "    print(f\"{feature_mapping[i]}: {'Present' if val == 1 else 'Absent'}\")"
   ]
  },
  {
   "cell_type": "code",
   "execution_count": 73,
   "id": "bfeba624",
   "metadata": {},
   "outputs": [
    {
     "name": "stdout",
     "output_type": "stream",
     "text": [
      "\n",
      "Predicted Class: Negative (N)\n",
      "sudden chills: Present\n",
      "headache: Present\n",
      "severe myalgia: Present\n",
      "fever: Absent\n",
      "neck stiffness: Absent\n",
      "unconsciousness: Absent\n",
      "low bp: Absent\n",
      "Season_P: Absent\n",
      "GPS_loc_P: Absent\n",
      "Occupation_P: Absent\n"
     ]
    }
   ],
   "source": [
    "new_patient_data = [1, 1, 1, 0, 0, 0, 0, 0, 0, 0]\n",
    "predicted_class = predict_disease(new_patient_data)\n",
    "print(f\"\\nPredicted Class: {class_mapping[predicted_class]}\")\n",
    "\n",
    "for i, val in enumerate(new_patient_data):\n",
    "    print(f\"{feature_mapping[i]}: {'Present' if val == 1 else 'Absent'}\")"
   ]
  },
  {
   "cell_type": "code",
   "execution_count": 74,
   "id": "38eea087",
   "metadata": {},
   "outputs": [
    {
     "name": "stdout",
     "output_type": "stream",
     "text": [
      "\n",
      "Predicted Class: Suspected (S)\n",
      "sudden chills: Present\n",
      "headache: Present\n",
      "severe myalgia: Present\n",
      "fever: Present\n",
      "neck stiffness: Present\n",
      "unconsciousness: Absent\n",
      "low bp: Absent\n",
      "Season_P: Absent\n",
      "GPS_loc_P: Absent\n",
      "Occupation_P: Absent\n"
     ]
    }
   ],
   "source": [
    "new_patient_data = [1, 1, 1, 1, 1, 0, 0, 0, 0, 0]\n",
    "predicted_class = predict_disease(new_patient_data)\n",
    "print(f\"\\nPredicted Class: {class_mapping[predicted_class]}\")\n",
    "\n",
    "for i, val in enumerate(new_patient_data):\n",
    "    print(f\"{feature_mapping[i]}: {'Present' if val == 1 else 'Absent'}\")"
   ]
  },
  {
   "cell_type": "code",
   "execution_count": 75,
   "id": "d7a4b40b",
   "metadata": {},
   "outputs": [
    {
     "name": "stdout",
     "output_type": "stream",
     "text": [
      "\n",
      "Predicted Class: Probable (PR)\n",
      "sudden chills: Present\n",
      "headache: Present\n",
      "severe myalgia: Present\n",
      "fever: Present\n",
      "neck stiffness: Absent\n",
      "unconsciousness: Absent\n",
      "low bp: Absent\n",
      "Season_P: Present\n",
      "GPS_loc_P: Present\n",
      "Occupation_P: Absent\n"
     ]
    }
   ],
   "source": [
    "new_patient_data = [1, 1, 1, 1, 0, 0, 0, 1, 1, 0]\n",
    "predicted_class = predict_disease(new_patient_data)\n",
    "print(f\"\\nPredicted Class: {class_mapping[predicted_class]}\")\n",
    "for i, val in enumerate(new_patient_data):\n",
    "    print(f\"{feature_mapping[i]}: {'Present' if val == 1 else 'Absent'}\")"
   ]
  },
  {
   "cell_type": "code",
   "execution_count": 76,
   "id": "27cad4fb",
   "metadata": {},
   "outputs": [
    {
     "data": {
      "text/plain": [
       "['scaler.pkl']"
      ]
     },
     "execution_count": 76,
     "metadata": {},
     "output_type": "execute_result"
    }
   ],
   "source": [
    "import joblib\n",
    "joblib.dump(scaler, 'scaler.pkl')  # After refitting it"
   ]
  },
  {
   "cell_type": "code",
   "execution_count": null,
   "id": "c8b05102",
   "metadata": {},
   "outputs": [],
   "source": []
  }
 ],
 "metadata": {
  "kernelspec": {
   "display_name": "Python 3",
   "language": "python",
   "name": "python3"
  },
  "language_info": {
   "codemirror_mode": {
    "name": "ipython",
    "version": 3
   },
   "file_extension": ".py",
   "mimetype": "text/x-python",
   "name": "python",
   "nbconvert_exporter": "python",
   "pygments_lexer": "ipython3",
   "version": "3.13.2"
  }
 },
 "nbformat": 4,
 "nbformat_minor": 5
}
